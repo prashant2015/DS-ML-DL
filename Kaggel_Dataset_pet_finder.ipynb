{
  "nbformat": 4,
  "nbformat_minor": 0,
  "metadata": {
    "colab": {
      "name": "Kaggel_Dataset_pet-finder.ipynb",
      "provenance": []
    },
    "kernelspec": {
      "name": "python3",
      "display_name": "Python 3"
    },
    "language_info": {
      "name": "python"
    }
  },
  "cells": [
    {
      "cell_type": "markdown",
      "metadata": {
        "id": "1Tgy-d65RN4M"
      },
      "source": [
        "Kaggle Dataset pet finder"
      ]
    },
    {
      "cell_type": "markdown",
      "metadata": {
        "id": "kAIMegog5kHp"
      },
      "source": [
        "\n",
        "#Instructions"
      ]
    },
    {
      "cell_type": "markdown",
      "metadata": {
        "id": "wnS-3M3qqlYG"
      },
      "source": [
        "Import Libraries"
      ]
    },
    {
      "cell_type": "code",
      "metadata": {
        "id": "3mKRLax6qpOt"
      },
      "source": [
        "import tensorflow as tf\n",
        "import numpy as np\n",
        "import pandas as pd\n",
        "from tensorflow import random, convert_to_tensor\n",
        "from tensorflow.keras.models import Sequential\n",
        "from tensorflow.keras.layers import Dense, Reshape, BatchNormalization, Flatten\n",
        "from tensorflow.keras.optimizers import SGD\n",
        "from tensorflow.keras.utils import get_file\n",
        "from tensorflow.keras.callbacks import EarlyStopping\n",
        "from collections import Counter\n",
        "from sklearn.model_selection import train_test_split\n",
        "from sklearn.metrics import accuracy_score\n",
        "import sklearn as sk\n",
        "import tensorflow as tf\n",
        "from datetime import datetime\n",
        "from packaging import version\n",
        "from tensorflow import keras\n",
        "import numpy as np\n",
        "import matplotlib.pyplot as plt\n",
        "import pandas as pd\n",
        "import tensorboard\n",
        "from sklearn.preprocessing import MinMaxScaler\n",
        "import warnings\n",
        "warnings.filterwarnings(\"ignore\")\n",
        "\n"
      ],
      "execution_count": null,
      "outputs": []
    },
    {
      "cell_type": "code",
      "metadata": {
        "colab": {
          "base_uri": "https://localhost:8080/"
        },
        "id": "ZrtGTuiRlvSe",
        "outputId": "1a47005e-448e-450a-b406-252f1ed51cdd"
      },
      "source": [
        "%load_ext tensorboard\n",
        "tf.summary.trace_on(\n",
        "    graph=True, profiler=False\n",
        ")"
      ],
      "execution_count": null,
      "outputs": [
        {
          "output_type": "stream",
          "text": [
            "The tensorboard extension is already loaded. To reload it, use:\n",
            "  %reload_ext tensorboard\n",
            "WARNING:tensorflow:Trace already enabled\n"
          ],
          "name": "stdout"
        }
      ]
    },
    {
      "cell_type": "code",
      "metadata": {
        "id": "6E9WoVfllzB5"
      },
      "source": [
        "logdir=\"logs/fit/\" + datetime.now().strftime(\"%Y%m%d-%H%M%S\")\n",
        "tensorboard_callback = keras.callbacks.TensorBoard(log_dir=logdir)"
      ],
      "execution_count": null,
      "outputs": []
    },
    {
      "cell_type": "code",
      "metadata": {
        "id": "yJmE-3_Pq1gE"
      },
      "source": [
        "np.random.seed(0)\n",
        "random.set_seed(0)"
      ],
      "execution_count": null,
      "outputs": []
    },
    {
      "cell_type": "code",
      "metadata": {
        "id": "sb1TE7RQq2Wh"
      },
      "source": [
        "dataset_url = 'http://storage.googleapis.com/download.tensorflow.org/data/petfinder-mini.zip'\n",
        "csv_file = 'datasets/petfinder-mini/petfinder-mini.csv'\n",
        "\n",
        "get_file('petfinder_mini.zip', dataset_url,\n",
        "                        extract=True, cache_dir='.')\n",
        "dataset = pd.read_csv(csv_file)"
      ],
      "execution_count": null,
      "outputs": []
    },
    {
      "cell_type": "code",
      "metadata": {
        "colab": {
          "base_uri": "https://localhost:8080/"
        },
        "id": "whAi1GchrCqP",
        "outputId": "bb2f5c64-2162-47cf-d502-dd2c7afd3c87"
      },
      "source": [
        "type(dataset)"
      ],
      "execution_count": null,
      "outputs": [
        {
          "output_type": "execute_result",
          "data": {
            "text/plain": [
              "pandas.core.frame.DataFrame"
            ]
          },
          "metadata": {
            "tags": []
          },
          "execution_count": 86
        }
      ]
    },
    {
      "cell_type": "code",
      "metadata": {
        "colab": {
          "base_uri": "https://localhost:8080/"
        },
        "id": "WBjCzajdrqRb",
        "outputId": "d2a6e84c-8f80-45d5-d852-14370e3526fd"
      },
      "source": [
        "dataset.head"
      ],
      "execution_count": null,
      "outputs": [
        {
          "output_type": "execute_result",
          "data": {
            "text/plain": [
              "<bound method NDFrame.head of       Type  Age  ... PhotoAmt AdoptionSpeed\n",
              "0      Cat    3  ...        1             2\n",
              "1      Cat    1  ...        2             0\n",
              "2      Dog    1  ...        7             3\n",
              "3      Dog    4  ...        8             2\n",
              "4      Dog    1  ...        3             2\n",
              "...    ...  ...  ...      ...           ...\n",
              "11532  Dog   24  ...        0             4\n",
              "11533  Cat    1  ...        1             3\n",
              "11534  Dog    6  ...        1             0\n",
              "11535  Cat    9  ...        3             4\n",
              "11536  Dog    1  ...        1             3\n",
              "\n",
              "[11537 rows x 15 columns]>"
            ]
          },
          "metadata": {
            "tags": []
          },
          "execution_count": 87
        }
      ]
    },
    {
      "cell_type": "code",
      "metadata": {
        "colab": {
          "base_uri": "https://localhost:8080/"
        },
        "id": "FscZqVJer16m",
        "outputId": "4e57ccf5-fbbd-41d9-fe77-4af6e810814c"
      },
      "source": [
        "dataset.columns"
      ],
      "execution_count": null,
      "outputs": [
        {
          "output_type": "execute_result",
          "data": {
            "text/plain": [
              "Index(['Type', 'Age', 'Breed1', 'Gender', 'Color1', 'Color2', 'MaturitySize',\n",
              "       'FurLength', 'Vaccinated', 'Sterilized', 'Health', 'Fee', 'Description',\n",
              "       'PhotoAmt', 'AdoptionSpeed'],\n",
              "      dtype='object')"
            ]
          },
          "metadata": {
            "tags": []
          },
          "execution_count": 52
        }
      ]
    },
    {
      "cell_type": "code",
      "metadata": {
        "id": "wkCmIS6xrvcj"
      },
      "source": [
        "dataset['Target']=np.where(dataset['AdoptionSpeed']==4 ,0,1)"
      ],
      "execution_count": null,
      "outputs": []
    },
    {
      "cell_type": "code",
      "metadata": {
        "colab": {
          "base_uri": "https://localhost:8080/"
        },
        "id": "X3bbghR8sH_b",
        "outputId": "9d7ca044-b0cd-4b67-b211-b5e50c99a6bc"
      },
      "source": [
        "dataset.columns"
      ],
      "execution_count": null,
      "outputs": [
        {
          "output_type": "execute_result",
          "data": {
            "text/plain": [
              "Index(['Type', 'Age', 'Breed1', 'Gender', 'Color1', 'Color2', 'MaturitySize',\n",
              "       'FurLength', 'Vaccinated', 'Sterilized', 'Health', 'Fee', 'Description',\n",
              "       'PhotoAmt', 'AdoptionSpeed', 'Target'],\n",
              "      dtype='object')"
            ]
          },
          "metadata": {
            "tags": []
          },
          "execution_count": 89
        }
      ]
    },
    {
      "cell_type": "code",
      "metadata": {
        "id": "pIw0633KsRtD"
      },
      "source": [
        "g = dataset.columns.to_series().groupby(dataset.dtypes).groups"
      ],
      "execution_count": null,
      "outputs": []
    },
    {
      "cell_type": "code",
      "metadata": {
        "colab": {
          "base_uri": "https://localhost:8080/"
        },
        "id": "-NMixE4os0E7",
        "outputId": "dfaee900-e1d3-4d41-9bfb-88a09c6470d2"
      },
      "source": [
        "g"
      ],
      "execution_count": null,
      "outputs": [
        {
          "output_type": "execute_result",
          "data": {
            "text/plain": [
              "{int64: ['Age', 'Fee', 'PhotoAmt', 'AdoptionSpeed', 'Target'], object: ['Type', 'Breed1', 'Gender', 'Color1', 'Color2', 'MaturitySize', 'FurLength', 'Vaccinated', 'Sterilized', 'Health', 'Description']}"
            ]
          },
          "metadata": {
            "tags": []
          },
          "execution_count": 91
        }
      ]
    },
    {
      "cell_type": "code",
      "metadata": {
        "colab": {
          "base_uri": "https://localhost:8080/"
        },
        "id": "fLaAPeZAs0lj",
        "outputId": "ece59493-28db-4743-928f-f8dc712466ef"
      },
      "source": [
        "g1= {k.name: v for k, v in g.items()}\n",
        "g1"
      ],
      "execution_count": null,
      "outputs": [
        {
          "output_type": "execute_result",
          "data": {
            "text/plain": [
              "{'int64': Index(['Age', 'Fee', 'PhotoAmt', 'AdoptionSpeed', 'Target'], dtype='object'),\n",
              " 'object': Index(['Type', 'Breed1', 'Gender', 'Color1', 'Color2', 'MaturitySize',\n",
              "        'FurLength', 'Vaccinated', 'Sterilized', 'Health', 'Description'],\n",
              "       dtype='object')}"
            ]
          },
          "metadata": {
            "tags": []
          },
          "execution_count": 92
        }
      ]
    },
    {
      "cell_type": "code",
      "metadata": {
        "colab": {
          "base_uri": "https://localhost:8080/"
        },
        "id": "0FInJh0ctICY",
        "outputId": "14fe5d5d-93b2-41e2-ab34-7daf7ca53e0e"
      },
      "source": [
        "g1['int64']"
      ],
      "execution_count": null,
      "outputs": [
        {
          "output_type": "execute_result",
          "data": {
            "text/plain": [
              "Index(['Age', 'Fee', 'PhotoAmt', 'AdoptionSpeed', 'Target'], dtype='object')"
            ]
          },
          "metadata": {
            "tags": []
          },
          "execution_count": 93
        }
      ]
    },
    {
      "cell_type": "code",
      "metadata": {
        "colab": {
          "base_uri": "https://localhost:8080/"
        },
        "id": "F-u771iGuu8C",
        "outputId": "f4b4acbf-fc1e-4a09-c879-74880fa4da3e"
      },
      "source": [
        "g1['object']"
      ],
      "execution_count": null,
      "outputs": [
        {
          "output_type": "execute_result",
          "data": {
            "text/plain": [
              "Index(['Type', 'Breed1', 'Gender', 'Color1', 'Color2', 'MaturitySize',\n",
              "       'FurLength', 'Vaccinated', 'Sterilized', 'Health', 'Description'],\n",
              "      dtype='object')"
            ]
          },
          "metadata": {
            "tags": []
          },
          "execution_count": 94
        }
      ]
    },
    {
      "cell_type": "markdown",
      "metadata": {
        "id": "QPFvfIVkv3DE"
      },
      "source": [
        "We need to convert all object which is categorical to int , for tensorflow to understand , we will use cat which is series function "
      ]
    },
    {
      "cell_type": "code",
      "metadata": {
        "id": "E01ZYeY8wtfE"
      },
      "source": [
        "#dataset['Type'] = dataset['Type'].astype('category')\n",
        "#dataset['Type'] = dataset['Type'].cat.codes\n",
        "#this will convert from Dog , Cat to 1,2"
      ],
      "execution_count": null,
      "outputs": []
    },
    {
      "cell_type": "code",
      "metadata": {
        "colab": {
          "base_uri": "https://localhost:8080/"
        },
        "id": "1qDc7vAXw9YJ",
        "outputId": "bad4acc3-a998-4e8f-a7d6-572744e14002"
      },
      "source": [
        "# all the columns with type -object will be listed\n",
        "cat_features = list(g1[\"object\"])\n",
        "cat_features"
      ],
      "execution_count": null,
      "outputs": [
        {
          "output_type": "execute_result",
          "data": {
            "text/plain": [
              "['Type',\n",
              " 'Breed1',\n",
              " 'Gender',\n",
              " 'Color1',\n",
              " 'Color2',\n",
              " 'MaturitySize',\n",
              " 'FurLength',\n",
              " 'Vaccinated',\n",
              " 'Sterilized',\n",
              " 'Health',\n",
              " 'Description']"
            ]
          },
          "metadata": {
            "tags": []
          },
          "execution_count": 95
        }
      ]
    },
    {
      "cell_type": "code",
      "metadata": {
        "colab": {
          "base_uri": "https://localhost:8080/"
        },
        "id": "6FobdsqKyihe",
        "outputId": "1c9cf4e6-c36c-4982-a0a1-c5d605b2d1f5"
      },
      "source": [
        "g2 = dataset.columns.to_series().groupby(dataset.dtypes).groups\n",
        "g2"
      ],
      "execution_count": null,
      "outputs": [
        {
          "output_type": "execute_result",
          "data": {
            "text/plain": [
              "{int64: ['Age', 'Fee', 'PhotoAmt', 'AdoptionSpeed', 'Target'], object: ['Type', 'Breed1', 'Gender', 'Color1', 'Color2', 'MaturitySize', 'FurLength', 'Vaccinated', 'Sterilized', 'Health', 'Description']}"
            ]
          },
          "metadata": {
            "tags": []
          },
          "execution_count": 96
        }
      ]
    },
    {
      "cell_type": "code",
      "metadata": {
        "colab": {
          "base_uri": "https://localhost:8080/"
        },
        "id": "n0UKtfe0wDZ9",
        "outputId": "5841be43-9c44-4954-bd57-8248116e45f2"
      },
      "source": [
        "cat_features = list(g1[\"object\"])\n",
        "cat_features"
      ],
      "execution_count": null,
      "outputs": [
        {
          "output_type": "execute_result",
          "data": {
            "text/plain": [
              "['Type',\n",
              " 'Breed1',\n",
              " 'Gender',\n",
              " 'Color1',\n",
              " 'Color2',\n",
              " 'MaturitySize',\n",
              " 'FurLength',\n",
              " 'Vaccinated',\n",
              " 'Sterilized',\n",
              " 'Health',\n",
              " 'Description']"
            ]
          },
          "metadata": {
            "tags": []
          },
          "execution_count": 97
        }
      ]
    },
    {
      "cell_type": "code",
      "metadata": {
        "id": "r4IXDQyV2WK4"
      },
      "source": [
        "for column in cat_features:\n",
        "\n",
        "    #first step is to convert column from object to categorical \n",
        "    dataset[column] = dataset[column].astype('category')\n",
        "    #second step is use the pandas series function to cat to convert it into codes\n",
        "    dataset[column] = dataset[column].cat.codes\n",
        "\n",
        "#complete list of columns converted to float64\n",
        "dataset = dataset.astype(np.float64)"
      ],
      "execution_count": null,
      "outputs": []
    },
    {
      "cell_type": "code",
      "metadata": {
        "colab": {
          "base_uri": "https://localhost:8080/"
        },
        "id": "EPG6UeLR3Xmg",
        "outputId": "f0d31c84-b086-4e00-b0cd-ee049826de9c"
      },
      "source": [
        "g3 = dataset.columns.to_series().groupby(dataset.dtypes).groups\n",
        "g3"
      ],
      "execution_count": null,
      "outputs": [
        {
          "output_type": "execute_result",
          "data": {
            "text/plain": [
              "{float64: ['Type', 'Age', 'Breed1', 'Gender', 'Color1', 'Color2', 'MaturitySize', 'FurLength', 'Vaccinated', 'Sterilized', 'Health', 'Fee', 'Description', 'PhotoAmt', 'AdoptionSpeed', 'Target']}"
            ]
          },
          "metadata": {
            "tags": []
          },
          "execution_count": 99
        }
      ]
    },
    {
      "cell_type": "code",
      "metadata": {
        "id": "AmAJsqNsA4o9"
      },
      "source": [
        "train_data ,test_data=sk.model_selection.train_test_split(dataset,test_size=.2,random_state=0)"
      ],
      "execution_count": null,
      "outputs": []
    },
    {
      "cell_type": "code",
      "metadata": {
        "id": "bzjeEEJsBqjl"
      },
      "source": [
        "X_train=train_data.iloc[:,:-1]\n",
        "y_train=train_data.iloc[:,-1]"
      ],
      "execution_count": null,
      "outputs": []
    },
    {
      "cell_type": "code",
      "metadata": {
        "colab": {
          "base_uri": "https://localhost:8080/"
        },
        "id": "2FO1bWwaB8hq",
        "outputId": "fe561803-320f-4d4d-8096-7953a0777895"
      },
      "source": [
        "y_train"
      ],
      "execution_count": null,
      "outputs": [
        {
          "output_type": "execute_result",
          "data": {
            "text/plain": [
              "1382     0.0\n",
              "8302     1.0\n",
              "5961     1.0\n",
              "6225     1.0\n",
              "4384     1.0\n",
              "        ... \n",
              "4859     1.0\n",
              "3264     1.0\n",
              "9845     0.0\n",
              "10799    1.0\n",
              "2732     1.0\n",
              "Name: Target, Length: 9229, dtype: float64"
            ]
          },
          "metadata": {
            "tags": []
          },
          "execution_count": 102
        }
      ]
    },
    {
      "cell_type": "code",
      "metadata": {
        "id": "mKrEzIGnBtbS"
      },
      "source": [
        "X_test=test_data.iloc[:,:-1]\n",
        "y_test=test_data.iloc[:,-1]"
      ],
      "execution_count": null,
      "outputs": []
    },
    {
      "cell_type": "code",
      "metadata": {
        "id": "TzV76BpPEWtn"
      },
      "source": [
        "X_train_tensor=tf.constant(X_train)\n",
        "y_train_tensor=tf.constant(y_train)\n",
        "X_test_tensor=tf.constant(X_test)\n",
        "y_test_tensor=tf.constant(y_test)"
      ],
      "execution_count": null,
      "outputs": []
    },
    {
      "cell_type": "code",
      "metadata": {
        "colab": {
          "base_uri": "https://localhost:8080/"
        },
        "id": "s08XCEgcEaQq",
        "outputId": "ec65f9ed-4c93-4049-cb01-b2ce0487f0e8"
      },
      "source": [
        "type(X_train_tensor)"
      ],
      "execution_count": null,
      "outputs": [
        {
          "output_type": "execute_result",
          "data": {
            "text/plain": [
              "tensorflow.python.framework.ops.EagerTensor"
            ]
          },
          "metadata": {
            "tags": []
          },
          "execution_count": 105
        }
      ]
    },
    {
      "cell_type": "code",
      "metadata": {
        "colab": {
          "base_uri": "https://localhost:8080/"
        },
        "id": "HboR44-jNbDT",
        "outputId": "008edb28-6ae7-4123-bc1f-af8e5b3bb205"
      },
      "source": [
        "type(X_train_tensor)"
      ],
      "execution_count": null,
      "outputs": [
        {
          "output_type": "execute_result",
          "data": {
            "text/plain": [
              "tensorflow.python.framework.ops.EagerTensor"
            ]
          },
          "metadata": {
            "tags": []
          },
          "execution_count": 106
        }
      ]
    },
    {
      "cell_type": "code",
      "metadata": {
        "id": "uDbShWdpNp2S",
        "colab": {
          "base_uri": "https://localhost:8080/"
        },
        "outputId": "18177ffc-fe9a-400f-aa0e-4a2865320f92"
      },
      "source": [
        "X_train_tensor"
      ],
      "execution_count": null,
      "outputs": [
        {
          "output_type": "execute_result",
          "data": {
            "text/plain": [
              "<tf.Tensor: shape=(9229, 15), dtype=float64, numpy=\n",
              "array([[1.000e+00, 2.400e+01, 9.900e+01, ..., 1.154e+03, 7.000e+00,\n",
              "        4.000e+00],\n",
              "       [1.000e+00, 2.000e+00, 8.900e+01, ..., 6.273e+03, 2.000e+00,\n",
              "        3.000e+00],\n",
              "       [1.000e+00, 3.000e+00, 9.900e+01, ..., 2.375e+03, 1.000e+00,\n",
              "        3.000e+00],\n",
              "       ...,\n",
              "       [1.000e+00, 1.200e+01, 1.220e+02, ..., 3.714e+03, 1.000e+01,\n",
              "        4.000e+00],\n",
              "       [1.000e+00, 1.400e+01, 1.320e+02, ..., 7.157e+03, 6.000e+00,\n",
              "        1.000e+00],\n",
              "       [1.000e+00, 1.000e+00, 9.900e+01, ..., 8.156e+03, 7.000e+00,\n",
              "        3.000e+00]])>"
            ]
          },
          "metadata": {
            "tags": []
          },
          "execution_count": 107
        }
      ]
    },
    {
      "cell_type": "code",
      "metadata": {
        "id": "MBkSpVbiFOv7"
      },
      "source": [
        "model=tf.keras.models.Sequential()\n",
        "model.add(tf.keras.layers.BatchNormalization())\n",
        "model.add(tf.keras.layers.Dense(units=6,activation='relu',input_shape=(1,)))\n",
        "model.add(tf.keras.layers.Dense(units=1, activation='sigmoid'))\n"
      ],
      "execution_count": null,
      "outputs": []
    },
    {
      "cell_type": "code",
      "metadata": {
        "id": "e_QP7QNgOih0"
      },
      "source": [
        "model.compile(optimizer = 'adam', loss = 'binary_crossentropy', metrics = ['accuracy'])"
      ],
      "execution_count": null,
      "outputs": []
    },
    {
      "cell_type": "code",
      "metadata": {
        "colab": {
          "base_uri": "https://localhost:8080/"
        },
        "id": "g0vg_NwVNdnX",
        "outputId": "ef3bdb53-af31-45b9-ff5a-03e8d810f183"
      },
      "source": [
        "model.fit(x=X_train_tensor,y=y_train_tensor, batch_size=32 ,epochs = 20, validation_data=(X_test_tensor,y_test_tensor))"
      ],
      "execution_count": null,
      "outputs": [
        {
          "output_type": "stream",
          "text": [
            "Epoch 1/20\n",
            "289/289 [==============================] - 1s 2ms/step - loss: 0.5831 - accuracy: 0.6818 - val_loss: 0.4466 - val_accuracy: 0.7166\n",
            "Epoch 2/20\n",
            "289/289 [==============================] - 1s 2ms/step - loss: 0.3854 - accuracy: 0.7546 - val_loss: 0.2905 - val_accuracy: 0.8657\n",
            "Epoch 3/20\n",
            "289/289 [==============================] - 1s 2ms/step - loss: 0.2629 - accuracy: 0.9002 - val_loss: 0.2053 - val_accuracy: 0.9705\n",
            "Epoch 4/20\n",
            "289/289 [==============================] - 1s 2ms/step - loss: 0.1876 - accuracy: 0.9619 - val_loss: 0.1018 - val_accuracy: 0.9913\n",
            "Epoch 5/20\n",
            "289/289 [==============================] - 1s 2ms/step - loss: 0.0969 - accuracy: 0.9844 - val_loss: 0.0402 - val_accuracy: 0.9987\n",
            "Epoch 6/20\n",
            "289/289 [==============================] - 1s 2ms/step - loss: 0.0549 - accuracy: 0.9900 - val_loss: 0.0195 - val_accuracy: 1.0000\n",
            "Epoch 7/20\n",
            "289/289 [==============================] - 1s 2ms/step - loss: 0.0414 - accuracy: 0.9912 - val_loss: 0.0106 - val_accuracy: 1.0000\n",
            "Epoch 8/20\n",
            "289/289 [==============================] - 1s 2ms/step - loss: 0.0334 - accuracy: 0.9937 - val_loss: 0.0070 - val_accuracy: 1.0000\n",
            "Epoch 9/20\n",
            "289/289 [==============================] - 1s 2ms/step - loss: 0.0272 - accuracy: 0.9957 - val_loss: 0.0046 - val_accuracy: 1.0000\n",
            "Epoch 10/20\n",
            "289/289 [==============================] - 1s 2ms/step - loss: 0.0255 - accuracy: 0.9948 - val_loss: 0.0032 - val_accuracy: 1.0000\n",
            "Epoch 11/20\n",
            "289/289 [==============================] - 1s 2ms/step - loss: 0.0249 - accuracy: 0.9914 - val_loss: 0.0025 - val_accuracy: 1.0000\n",
            "Epoch 12/20\n",
            "289/289 [==============================] - 1s 2ms/step - loss: 0.0288 - accuracy: 0.9930 - val_loss: 0.0020 - val_accuracy: 1.0000\n",
            "Epoch 13/20\n",
            "289/289 [==============================] - 1s 2ms/step - loss: 0.0496 - accuracy: 0.9801 - val_loss: 0.0018 - val_accuracy: 1.0000\n",
            "Epoch 14/20\n",
            "289/289 [==============================] - 1s 2ms/step - loss: 0.0198 - accuracy: 0.9963 - val_loss: 0.0016 - val_accuracy: 1.0000\n",
            "Epoch 15/20\n",
            "289/289 [==============================] - 1s 2ms/step - loss: 0.0199 - accuracy: 0.9943 - val_loss: 0.0012 - val_accuracy: 1.0000\n",
            "Epoch 16/20\n",
            "289/289 [==============================] - 1s 2ms/step - loss: 0.0112 - accuracy: 0.9973 - val_loss: 0.0010 - val_accuracy: 1.0000\n",
            "Epoch 17/20\n",
            "289/289 [==============================] - 1s 2ms/step - loss: 0.0221 - accuracy: 0.9921 - val_loss: 9.2535e-04 - val_accuracy: 1.0000\n",
            "Epoch 18/20\n",
            "289/289 [==============================] - 1s 2ms/step - loss: 0.0116 - accuracy: 0.9986 - val_loss: 7.9918e-04 - val_accuracy: 1.0000\n",
            "Epoch 19/20\n",
            "289/289 [==============================] - 1s 2ms/step - loss: 0.0100 - accuracy: 0.9982 - val_loss: 6.7986e-04 - val_accuracy: 1.0000\n",
            "Epoch 20/20\n",
            "289/289 [==============================] - 1s 2ms/step - loss: 0.0149 - accuracy: 0.9952 - val_loss: 5.9254e-04 - val_accuracy: 1.0000\n"
          ],
          "name": "stdout"
        },
        {
          "output_type": "execute_result",
          "data": {
            "text/plain": [
              "<tensorflow.python.keras.callbacks.History at 0x7f9196b9b690>"
            ]
          },
          "metadata": {
            "tags": []
          },
          "execution_count": 110
        }
      ]
    },
    {
      "cell_type": "code",
      "metadata": {
        "id": "sQkCqjKkQiNl"
      },
      "source": [
        "y_test=model.predict(X_test_tensor)"
      ],
      "execution_count": null,
      "outputs": []
    },
    {
      "cell_type": "code",
      "metadata": {
        "id": "hlcmwWIoA10d"
      },
      "source": [
        "y_test=np.array(y_test)"
      ],
      "execution_count": null,
      "outputs": []
    },
    {
      "cell_type": "code",
      "metadata": {
        "id": "3aAf0XffQ0Co"
      },
      "source": [
        "y_test_tensor=np.array(y_test_tensor)"
      ],
      "execution_count": null,
      "outputs": []
    },
    {
      "cell_type": "code",
      "metadata": {
        "id": "JVSDQpVACV_h"
      },
      "source": [
        "y_test=np.where(y_test> .5,1,0)"
      ],
      "execution_count": null,
      "outputs": []
    },
    {
      "cell_type": "code",
      "metadata": {
        "colab": {
          "base_uri": "https://localhost:8080/"
        },
        "id": "4_TIcn7EP3Tf",
        "outputId": "96643b94-9e69-4902-b61a-23a554ad95db"
      },
      "source": [
        "from sklearn.metrics import confusion_matrix, accuracy_score\n",
        "cm = confusion_matrix(y_test, y_test_tensor)\n",
        "print(cm)\n",
        "accuracy_score(y_test, y_test_tensor)\n"
      ],
      "execution_count": null,
      "outputs": [
        {
          "output_type": "stream",
          "text": [
            "[[ 642    0]\n",
            " [   0 1666]]\n"
          ],
          "name": "stdout"
        },
        {
          "output_type": "execute_result",
          "data": {
            "text/plain": [
              "1.0"
            ]
          },
          "metadata": {
            "tags": []
          },
          "execution_count": 35
        }
      ]
    },
    {
      "cell_type": "code",
      "metadata": {
        "colab": {
          "base_uri": "https://localhost:8080/"
        },
        "id": "02gyQUcBljPq",
        "outputId": "26406973-6741-407b-efab-2a46917b705a"
      },
      "source": [
        "model.summary()"
      ],
      "execution_count": null,
      "outputs": [
        {
          "output_type": "stream",
          "text": [
            "Model: \"sequential_2\"\n",
            "_________________________________________________________________\n",
            "Layer (type)                 Output Shape              Param #   \n",
            "=================================================================\n",
            "batch_normalization_2 (Batch (None, 15)                60        \n",
            "_________________________________________________________________\n",
            "dense_4 (Dense)              (None, 6)                 96        \n",
            "_________________________________________________________________\n",
            "dense_5 (Dense)              (None, 1)                 7         \n",
            "=================================================================\n",
            "Total params: 163\n",
            "Trainable params: 133\n",
            "Non-trainable params: 30\n",
            "_________________________________________________________________\n"
          ],
          "name": "stdout"
        }
      ]
    }
  ]
}